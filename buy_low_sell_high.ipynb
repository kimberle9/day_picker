{
 "cells": [
  {
   "cell_type": "code",
   "execution_count": 1,
   "metadata": {
    "collapsed": false
   },
   "outputs": [
    {
     "name": "stderr",
     "output_type": "stream",
     "text": [
      "/Users/phillipmiller/anaconda/lib/python2.7/site-packages/pandas/io/data.py:35: FutureWarning: \n",
      "The pandas.io.data module is moved to a separate package (pandas-datareader) and will be removed from pandas in a future version.\n",
      "After installing the pandas-datareader package (https://github.com/pydata/pandas-datareader), you can change the import ``from pandas.io import data, wb`` to ``from pandas_datareader import data, wb``.\n",
      "  FutureWarning)\n"
     ]
    }
   ],
   "source": [
    "import pandas as pd\n",
    "import pandas.io.data as web\n",
    "import datetime\n",
    "import matplotlib.pyplot as plt"
   ]
  },
  {
   "cell_type": "code",
   "execution_count": 2,
   "metadata": {
    "collapsed": true
   },
   "outputs": [],
   "source": [
    "# Defining the start and end time frame. End date is today.\n",
    "start = datetime.datetime(2014,1,1)\n",
    "end = datetime.date.today()\n",
    "\n",
    "# Reading in stock price data from yahoo finance.\n",
    "apple = web.DataReader(\"AAPL\", \"yahoo\", start, end)\n",
    "microsoft = web.DataReader(\"MSFT\", \"yahoo\", start, end)\n",
    "google = web.DataReader(\"GOOG\", \"yahoo\", start, end)\n",
    "sp500 = web.DataReader(\"^GSPC\", \"yahoo\", start, end)\n",
    "\n",
    "# Saving only the adjusted close price of each stock.\n",
    "apple = apple[\"Adj Close\"]\n",
    "microsoft = microsoft[\"Adj Close\"]\n",
    "google = google[\"Adj Close\"]\n",
    "sp500 = sp500[\"Adj Close\"]"
   ]
  },
  {
   "cell_type": "code",
   "execution_count": 3,
   "metadata": {
    "collapsed": true
   },
   "outputs": [],
   "source": [
    "stocks = pd.DataFrame({\"AAPL\": apple,\"MSFT\": microsoft,\"GOOG\": google, \"GSPC\": sp500})"
   ]
  },
  {
   "cell_type": "code",
   "execution_count": 4,
   "metadata": {
    "collapsed": false
   },
   "outputs": [
    {
     "data": {
      "text/html": [
       "<div>\n",
       "<table border=\"1\" class=\"dataframe\">\n",
       "  <thead>\n",
       "    <tr style=\"text-align: right;\">\n",
       "      <th></th>\n",
       "      <th>AAPL</th>\n",
       "      <th>GOOG</th>\n",
       "      <th>GSPC</th>\n",
       "      <th>MSFT</th>\n",
       "    </tr>\n",
       "    <tr>\n",
       "      <th>Date</th>\n",
       "      <th></th>\n",
       "      <th></th>\n",
       "      <th></th>\n",
       "      <th></th>\n",
       "    </tr>\n",
       "  </thead>\n",
       "  <tbody>\n",
       "    <tr>\n",
       "      <th>2014-01-02</th>\n",
       "      <td>74.115916</td>\n",
       "      <td>556.004972</td>\n",
       "      <td>1831.979980</td>\n",
       "      <td>34.064103</td>\n",
       "    </tr>\n",
       "    <tr>\n",
       "      <th>2014-01-03</th>\n",
       "      <td>72.487897</td>\n",
       "      <td>551.948999</td>\n",
       "      <td>1831.369995</td>\n",
       "      <td>33.834931</td>\n",
       "    </tr>\n",
       "    <tr>\n",
       "      <th>2014-01-06</th>\n",
       "      <td>72.883175</td>\n",
       "      <td>558.102883</td>\n",
       "      <td>1826.770020</td>\n",
       "      <td>33.119916</td>\n",
       "    </tr>\n",
       "    <tr>\n",
       "      <th>2014-01-07</th>\n",
       "      <td>72.361944</td>\n",
       "      <td>568.862096</td>\n",
       "      <td>1837.880005</td>\n",
       "      <td>33.376587</td>\n",
       "    </tr>\n",
       "    <tr>\n",
       "      <th>2014-01-08</th>\n",
       "      <td>72.820202</td>\n",
       "      <td>570.045943</td>\n",
       "      <td>1837.489990</td>\n",
       "      <td>32.780739</td>\n",
       "    </tr>\n",
       "  </tbody>\n",
       "</table>\n",
       "</div>"
      ],
      "text/plain": [
       "                 AAPL        GOOG         GSPC       MSFT\n",
       "Date                                                     \n",
       "2014-01-02  74.115916  556.004972  1831.979980  34.064103\n",
       "2014-01-03  72.487897  551.948999  1831.369995  33.834931\n",
       "2014-01-06  72.883175  558.102883  1826.770020  33.119916\n",
       "2014-01-07  72.361944  568.862096  1837.880005  33.376587\n",
       "2014-01-08  72.820202  570.045943  1837.489990  32.780739"
      ]
     },
     "execution_count": 4,
     "metadata": {},
     "output_type": "execute_result"
    }
   ],
   "source": [
    "stocks.head()"
   ]
  },
  {
   "cell_type": "code",
   "execution_count": 5,
   "metadata": {
    "collapsed": false
   },
   "outputs": [
    {
     "data": {
      "text/plain": [
       "<matplotlib.axes._subplots.AxesSubplot at 0x112888d90>"
      ]
     },
     "execution_count": 5,
     "metadata": {},
     "output_type": "execute_result"
    },
    {
     "data": {
      "image/png": "[encoded data removed]",
      "text/plain": [
       "<matplotlib.figure.Figure at 0x10a67f1d0>"
      ]
     },
     "metadata": {},
     "output_type": "display_data"
    }
   ],
   "source": [
    "# Plotting stock prices from the start to end date.\n",
    "%matplotlib inline\n",
    "stocks.plot(secondary_y = [\"AAPL\", \"MSFT\"], grid = True)"
   ]
  },
  {
   "cell_type": "code",
   "execution_count": 6,
   "metadata": {
    "collapsed": true
   },
   "outputs": [],
   "source": [
    "# I'm defining a good stock as one that rose more than 15% in the last 1 year.\n",
    "# This is to check that I'm not buying stocks that aren't doing well.\n",
    "def oneyear(int,str):\n",
    "    daysago = len(str) - int\n",
    "    percentage = (str[daysago] - str[(daysago-250)])/str[(daysago-250)]\n",
    "    if (percentage > 0.15): \n",
    "        return True\n",
    "    else: \n",
    "        return False"
   ]
  },
  {
   "cell_type": "code",
   "execution_count": 7,
   "metadata": {
    "collapsed": true
   },
   "outputs": [],
   "source": [
    "# I'm defining \"low\" when a stock dropped at least 1% in the last week.\n",
    "# This is to identify which dates to buy a certain stock based on the \"buy low, sell high\" strategy.\n",
    "def oneweek(int,str):\n",
    "    daysago = len(str) - int\n",
    "    percentage = (str[daysago] - str[(daysago-5)])/str[(daysago-5)]\n",
    "    if (percentage < -0.005): \n",
    "        return True\n",
    "    else: \n",
    "        return False"
   ]
  },
  {
   "cell_type": "code",
   "execution_count": 8,
   "metadata": {
    "collapsed": true
   },
   "outputs": [],
   "source": [
    "# Keeping an index of the dates.\n",
    "dates = apple.reset_index()['Date']"
   ]
  },
  {
   "cell_type": "code",
   "execution_count": 11,
   "metadata": {
    "collapsed": true
   },
   "outputs": [],
   "source": [
    "# Look forward 5 days from a selected date and return the highest percentage return of the 5 days.\n",
    "import numpy as np\n",
    "def oneweekforward(int,str):\n",
    "    daysago = len(str) - int\n",
    "    highest = np.amax(str[daysago:daysago+5])\n",
    "    return (highest - str[daysago])/str[daysago]"
   ]
  },
  {
   "cell_type": "code",
   "execution_count": 12,
   "metadata": {
    "collapsed": true
   },
   "outputs": [],
   "source": [
    "# Returns a list of selected dates considered good dates to buy a certain stock.\n",
    "# Calculates average highest percentage return over the next 5 days of those selected dates. \n",
    "def getdatesfor(int, str):\n",
    "    highests_selected = []\n",
    "    print \"Selected dates and percentage:\"\n",
    "    for i in range(10,10+int):\n",
    "        if (oneweek(i,str) and oneyear(i,str)):\n",
    "            print dates[i]\n",
    "            highests_selected.append(oneweekforward(i,google))\n",
    "    if len(highests_selected) == 0:\n",
    "        print \"No dates selected.\"\n",
    "    else:\n",
    "        print \"Highest percentage return for selected dates:\",(sum(highests_selected)/len(highests_selected))*100, \"%\"\n",
    "    highests_unselected = []\n",
    "    print \"\\n\"\n",
    "    print \"NOT selected dates and percentage:\"\n",
    "    for i in range(10,10+int):\n",
    "        if not(oneweek(i,str) and oneyear(i,str)):\n",
    "            print dates[i]\n",
    "            highests_unselected.append(oneweekforward(i,google))\n",
    "    if len(highests_unselected) == 0:\n",
    "        print \"No dates unselected.\"\n",
    "    else:\n",
    "        print \"Highest percentage return for unselected dates:\",(sum(highests_unselected)/len(highests_unselected))*100, \"%\""
   ]
  },
  {
   "cell_type": "code",
   "execution_count": 13,
   "metadata": {
    "collapsed": false
   },
   "outputs": [
    {
     "name": "stdout",
     "output_type": "stream",
     "text": [
      "Selected dates and percentage:\n",
      "2014-02-11 00:00:00\n",
      "2014-02-12 00:00:00\n",
      "2014-02-14 00:00:00\n",
      "2014-02-18 00:00:00\n",
      "2014-03-07 00:00:00\n",
      "2014-03-10 00:00:00\n",
      "2014-03-11 00:00:00\n",
      "2014-03-12 00:00:00\n",
      "2014-03-26 00:00:00\n",
      "Highest percentage return for selected dates: 1.48707559126 %\n",
      "\n",
      "\n",
      "NOT selected dates and percentage:\n",
      "2014-01-16 00:00:00\n",
      "2014-01-17 00:00:00\n",
      "2014-01-21 00:00:00\n",
      "2014-01-22 00:00:00\n",
      "2014-01-23 00:00:00\n",
      "2014-01-24 00:00:00\n",
      "2014-01-27 00:00:00\n",
      "2014-01-28 00:00:00\n",
      "2014-01-29 00:00:00\n",
      "2014-01-30 00:00:00\n",
      "2014-01-31 00:00:00\n",
      "2014-02-03 00:00:00\n",
      "2014-02-04 00:00:00\n",
      "2014-02-05 00:00:00\n",
      "2014-02-06 00:00:00\n",
      "2014-02-07 00:00:00\n",
      "2014-02-10 00:00:00\n",
      "2014-02-13 00:00:00\n",
      "2014-02-19 00:00:00\n",
      "2014-02-20 00:00:00\n",
      "2014-02-21 00:00:00\n",
      "2014-02-24 00:00:00\n",
      "2014-02-25 00:00:00\n",
      "2014-02-26 00:00:00\n",
      "2014-02-27 00:00:00\n",
      "2014-02-28 00:00:00\n",
      "2014-03-03 00:00:00\n",
      "2014-03-04 00:00:00\n",
      "2014-03-05 00:00:00\n",
      "2014-03-06 00:00:00\n",
      "2014-03-13 00:00:00\n",
      "2014-03-14 00:00:00\n",
      "2014-03-17 00:00:00\n",
      "2014-03-18 00:00:00\n",
      "2014-03-19 00:00:00\n",
      "2014-03-20 00:00:00\n",
      "2014-03-21 00:00:00\n",
      "2014-03-24 00:00:00\n",
      "2014-03-25 00:00:00\n",
      "2014-03-27 00:00:00\n",
      "2014-03-28 00:00:00\n",
      "Highest percentage return for unselected dates: 0.985429591334 %\n"
     ]
    }
   ],
   "source": [
    "getdatesfor(50,microsoft)"
   ]
  },
  {
   "cell_type": "code",
   "execution_count": 14,
   "metadata": {
    "collapsed": false
   },
   "outputs": [
    {
     "name": "stdout",
     "output_type": "stream",
     "text": [
      "Selected dates and percentage:\n",
      "2014-02-06 00:00:00\n",
      "Highest percentage return for selected dates: 1.22700121639 %\n",
      "\n",
      "\n",
      "NOT selected dates and percentage:\n",
      "2014-01-16 00:00:00\n",
      "2014-01-17 00:00:00\n",
      "2014-01-21 00:00:00\n",
      "2014-01-22 00:00:00\n",
      "2014-01-23 00:00:00\n",
      "2014-01-24 00:00:00\n",
      "2014-01-27 00:00:00\n",
      "2014-01-28 00:00:00\n",
      "2014-01-29 00:00:00\n",
      "2014-01-30 00:00:00\n",
      "2014-01-31 00:00:00\n",
      "2014-02-03 00:00:00\n",
      "2014-02-04 00:00:00\n",
      "2014-02-05 00:00:00\n",
      "2014-02-07 00:00:00\n",
      "2014-02-10 00:00:00\n",
      "2014-02-11 00:00:00\n",
      "2014-02-12 00:00:00\n",
      "2014-02-13 00:00:00\n",
      "2014-02-14 00:00:00\n",
      "2014-02-18 00:00:00\n",
      "2014-02-19 00:00:00\n",
      "2014-02-20 00:00:00\n",
      "2014-02-21 00:00:00\n",
      "2014-02-24 00:00:00\n",
      "2014-02-25 00:00:00\n",
      "2014-02-26 00:00:00\n",
      "2014-02-27 00:00:00\n",
      "2014-02-28 00:00:00\n",
      "2014-03-03 00:00:00\n",
      "2014-03-04 00:00:00\n",
      "2014-03-05 00:00:00\n",
      "2014-03-06 00:00:00\n",
      "2014-03-07 00:00:00\n",
      "2014-03-10 00:00:00\n",
      "2014-03-11 00:00:00\n",
      "2014-03-12 00:00:00\n",
      "2014-03-13 00:00:00\n",
      "2014-03-14 00:00:00\n",
      "2014-03-17 00:00:00\n",
      "2014-03-18 00:00:00\n",
      "2014-03-19 00:00:00\n",
      "2014-03-20 00:00:00\n",
      "2014-03-21 00:00:00\n",
      "2014-03-24 00:00:00\n",
      "2014-03-25 00:00:00\n",
      "2014-03-26 00:00:00\n",
      "2014-03-27 00:00:00\n",
      "2014-03-28 00:00:00\n",
      "Highest percentage return for unselected dates: 1.07263861938 %\n"
     ]
    }
   ],
   "source": [
    "getdatesfor(50,apple)"
   ]
  },
  {
   "cell_type": "code",
   "execution_count": 15,
   "metadata": {
    "collapsed": false
   },
   "outputs": [
    {
     "name": "stdout",
     "output_type": "stream",
     "text": [
      "Selected dates and percentage:\n",
      "2014-03-11 00:00:00\n",
      "2014-03-12 00:00:00\n",
      "Highest percentage return for selected dates: 1.1201946215 %\n",
      "\n",
      "\n",
      "NOT selected dates and percentage:\n",
      "2014-01-16 00:00:00\n",
      "2014-01-17 00:00:00\n",
      "2014-01-21 00:00:00\n",
      "2014-01-22 00:00:00\n",
      "2014-01-23 00:00:00\n",
      "2014-01-24 00:00:00\n",
      "2014-01-27 00:00:00\n",
      "2014-01-28 00:00:00\n",
      "2014-01-29 00:00:00\n",
      "2014-01-30 00:00:00\n",
      "2014-01-31 00:00:00\n",
      "2014-02-03 00:00:00\n",
      "2014-02-04 00:00:00\n",
      "2014-02-05 00:00:00\n",
      "2014-02-06 00:00:00\n",
      "2014-02-07 00:00:00\n",
      "2014-02-10 00:00:00\n",
      "2014-02-11 00:00:00\n",
      "2014-02-12 00:00:00\n",
      "2014-02-13 00:00:00\n",
      "2014-02-14 00:00:00\n",
      "2014-02-18 00:00:00\n",
      "2014-02-19 00:00:00\n",
      "2014-02-20 00:00:00\n",
      "2014-02-21 00:00:00\n",
      "2014-02-24 00:00:00\n",
      "2014-02-25 00:00:00\n",
      "2014-02-26 00:00:00\n",
      "2014-02-27 00:00:00\n",
      "2014-02-28 00:00:00\n",
      "2014-03-03 00:00:00\n",
      "2014-03-04 00:00:00\n",
      "2014-03-05 00:00:00\n",
      "2014-03-06 00:00:00\n",
      "2014-03-07 00:00:00\n",
      "2014-03-10 00:00:00\n",
      "2014-03-13 00:00:00\n",
      "2014-03-14 00:00:00\n",
      "2014-03-17 00:00:00\n",
      "2014-03-18 00:00:00\n",
      "2014-03-19 00:00:00\n",
      "2014-03-20 00:00:00\n",
      "2014-03-21 00:00:00\n",
      "2014-03-24 00:00:00\n",
      "2014-03-25 00:00:00\n",
      "2014-03-26 00:00:00\n",
      "2014-03-27 00:00:00\n",
      "2014-03-28 00:00:00\n",
      "Highest percentage return for unselected dates: 1.07387300673 %\n"
     ]
    }
   ],
   "source": [
    "getdatesfor(50,google)"
   ]
  },
  {
   "cell_type": "code",
   "execution_count": 16,
   "metadata": {
    "collapsed": false
   },
   "outputs": [
    {
     "name": "stdout",
     "output_type": "stream",
     "text": [
      "Selected dates and percentage:\n",
      "2014-01-22 00:00:00\n",
      "2014-01-23 00:00:00\n",
      "2014-01-24 00:00:00\n",
      "2014-02-05 00:00:00\n",
      "2014-02-06 00:00:00\n",
      "2014-03-12 00:00:00\n",
      "2014-03-13 00:00:00\n",
      "2014-03-26 00:00:00\n",
      "Highest percentage return for selected dates: 1.34506115314 %\n",
      "\n",
      "\n",
      "NOT selected dates and percentage:\n",
      "2014-01-16 00:00:00\n",
      "2014-01-17 00:00:00\n",
      "2014-01-21 00:00:00\n",
      "2014-01-27 00:00:00\n",
      "2014-01-28 00:00:00\n",
      "2014-01-29 00:00:00\n",
      "2014-01-30 00:00:00\n",
      "2014-01-31 00:00:00\n",
      "2014-02-03 00:00:00\n",
      "2014-02-04 00:00:00\n",
      "2014-02-07 00:00:00\n",
      "2014-02-10 00:00:00\n",
      "2014-02-11 00:00:00\n",
      "2014-02-12 00:00:00\n",
      "2014-02-13 00:00:00\n",
      "2014-02-14 00:00:00\n",
      "2014-02-18 00:00:00\n",
      "2014-02-19 00:00:00\n",
      "2014-02-20 00:00:00\n",
      "2014-02-21 00:00:00\n",
      "2014-02-24 00:00:00\n",
      "2014-02-25 00:00:00\n",
      "2014-02-26 00:00:00\n",
      "2014-02-27 00:00:00\n",
      "2014-02-28 00:00:00\n",
      "2014-03-03 00:00:00\n",
      "2014-03-04 00:00:00\n",
      "2014-03-05 00:00:00\n",
      "2014-03-06 00:00:00\n",
      "2014-03-07 00:00:00\n",
      "2014-03-10 00:00:00\n",
      "2014-03-11 00:00:00\n",
      "2014-03-14 00:00:00\n",
      "2014-03-17 00:00:00\n",
      "2014-03-18 00:00:00\n",
      "2014-03-19 00:00:00\n",
      "2014-03-20 00:00:00\n",
      "2014-03-21 00:00:00\n",
      "2014-03-24 00:00:00\n",
      "2014-03-25 00:00:00\n",
      "2014-03-27 00:00:00\n",
      "2014-03-28 00:00:00\n",
      "Highest percentage return for unselected dates: 1.02442391288 %\n"
     ]
    }
   ],
   "source": [
    "getdatesfor(50, sp500)"
   ]
  },
  {
   "cell_type": "code",
   "execution_count": null,
   "metadata": {
    "collapsed": true
   },
   "outputs": [],
   "source": []
  }
 ],
 "metadata": {
  "anaconda-cloud": {},
  "kernelspec": {
   "display_name": "Python [conda root]",
   "language": "python",
   "name": "conda-root-py"
  },
  "language_info": {
   "codemirror_mode": {
    "name": "ipython",
    "version": 2
   },
   "file_extension": ".py",
   "mimetype": "text/x-python",
   "name": "python",
   "nbconvert_exporter": "python",
   "pygments_lexer": "ipython2",
   "version": "2.7.12"
  }
 },
 "nbformat": 4,
 "nbformat_minor": 1
}
